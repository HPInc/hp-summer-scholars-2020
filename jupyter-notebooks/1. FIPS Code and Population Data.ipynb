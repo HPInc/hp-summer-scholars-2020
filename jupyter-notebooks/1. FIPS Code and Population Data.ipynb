{
 "cells": [
  {
   "cell_type": "markdown",
   "metadata": {},
   "source": [
    "<a href=\"0. Introduction.ipynb\">&lt;- Go back to introduction notebook</a>\n",
    "\n",
    "# Step 1: Import public reference data for US counties.\n",
    "\n",
    "We'll need this data to match up <a href=\"https://en.wikipedia.org/wiki/FIPS_county_code\">FIPS codes</a> (which some of the Covid data uses) to states, which is how our salespeople are assigned.  FIPS codes are a 5-digit number that identifies a county within a state, or area within a territory.\n",
    "\n",
    "I've already grabbed some <a href=\"https://www.ers.usda.gov/data-products/county-level-data-sets/download-data/\">USDA data</a> (<a href=\"https://data.nal.usda.gov/access-policy\">license</a>).\n",
    "\n",
    "I already have Postgres installed and running locally, so let's create a table and insert the CSV data from the USDA.    \n",
    "\n",
    "I have saved the data into ```data/usda_county_pop_2019.csv```.  \n",
    "\n",
    "The CSV file looks like this:\n",
    "```\n",
    "FIPStxt,State,Area_Name,POP_ESTIMATE_2019\n",
    "01000,AL,Alabama,4903185\n",
    "...\n",
    "```\n",
    "\n",
    "<img src=\"images/sample-fips.png\">\n",
    "\n",
    "We can use the Postgres COPY command to import the CSV file into a Postgres table.  "
   ]
  },
  {
   "cell_type": "markdown",
   "metadata": {},
   "source": [
    "## 1.1 Create a little helper function to connect to the database.\n",
    "\n",
    "The format of the ```CONFIG_FILE``` below will be like this containing my Postgres username and password:\n",
    "\n",
    "```\n",
    "[database]\n",
    "login=sales\n",
    "password=<password>\n",
    "```\n",
    "\n",
    "We'll use ```psycopg2``` as our database access library, but there are others, like sqlalchemy.  For a good overview of accessing Postgres from Python, see <a href=\"https://www.learndatasci.com/tutorials/using-databases-python-postgres-sqlalchemy-and-alembic/\">this article</a>."
   ]
  },
  {
   "cell_type": "code",
   "execution_count": null,
   "metadata": {},
   "outputs": [],
   "source": [
    "# This will install the prerequisite packages we'll use\n",
    "!pip install psycopg2 pandas"
   ]
  },
  {
   "cell_type": "code",
   "execution_count": null,
   "metadata": {},
   "outputs": [],
   "source": [
    "import configparser\n",
    "import psycopg2\n",
    "\n",
    "CONFIG_FILE = r'c:\\keys\\sales.properties'\n",
    "\n",
    "def my_connect():\n",
    "    config = configparser.RawConfigParser()\n",
    "    config.read(CONFIG_FILE)\n",
    "    db_username=config.get('database', 'login')\n",
    "    db_password=config.get('database', 'password')\n",
    "\n",
    "    connection = psycopg2.connect(user=db_username, password=db_password, host='localhost', port=5432, database='sales')\n",
    "    return connection"
   ]
  },
  {
   "cell_type": "markdown",
   "metadata": {},
   "source": [
    "### Reusing Code Within These Notebooks\n",
    "\n",
    "I'll copy this to a file called my_connect.py and put it in the same directory as these notebooks.  Then we can do:\n",
    "```\n",
    "from my_connect import my_connect\n",
    "\n",
    "connection = my_connect()\n",
    "```\n",
    "\n",
    "We'll do that in the subsequent notebooks.  (Please note that if you changed the location of your sales.properties file\n",
    "above, you'll also need to change it in the my_connect.py file in this directory.  You can just use a text editor.)\n",
    "\n",
    "## 1.2 Create the fips table"
   ]
  },
  {
   "cell_type": "code",
   "execution_count": null,
   "metadata": {},
   "outputs": [],
   "source": [
    "connection = my_connect()\n",
    "cursor = connection.cursor()\n",
    "q = \"\"\"\n",
    "CREATE TABLE IF NOT EXISTS fips (\n",
    "                fipstxt VARCHAR(5) PRIMARY KEY,\n",
    "                state VARCHAR(5),\n",
    "                area_name VARCHAR(100),\n",
    "                pop_estimate_2019 INTEGER\n",
    "               )\n",
    "\"\"\"\n",
    "cursor.execute(q)\n",
    "connection.commit()"
   ]
  },
  {
   "cell_type": "markdown",
   "metadata": {},
   "source": [
    "## 1.3 Import the data from the CSV file"
   ]
  },
  {
   "cell_type": "code",
   "execution_count": null,
   "metadata": {},
   "outputs": [],
   "source": [
    "import psycopg2\n",
    "import psycopg2.sql as sql\n",
    "import os\n",
    "\n",
    "connection = my_connect()\n",
    "cursor = connection.cursor()\n",
    "\n",
    "CSV_FILE = os.path.join(os.getcwd(), \"usda_county_pop_2019.csv\")\n",
    "\n",
    "q2 = sql.SQL(\"\"\"\n",
    "DELETE FROM fips;\n",
    "COPY fips(fipstxt, state, area_name, pop_estimate_2019) FROM {} CSV HEADER;\n",
    "\"\"\")\n",
    "\n",
    "cursor.execute(q2.format(sql.Literal(CSV_FILE)))\n",
    "connection.commit()"
   ]
  },
  {
   "cell_type": "markdown",
   "metadata": {},
   "source": [
    "## 1.4 Show a few rows to validate"
   ]
  },
  {
   "cell_type": "code",
   "execution_count": null,
   "metadata": {},
   "outputs": [],
   "source": [
    "import pandas\n",
    "\n",
    "connection = my_connect()\n",
    "cursor = connection.cursor()\n",
    "cursor.execute(\"SELECT COUNT(*) FROM fips\")\n",
    "result = cursor.fetchone()\n",
    "print(\"FIPS rows: %s\" % result[0])\n",
    "df = pandas.io.sql.read_sql_query(\"SELECT * FROM fips LIMIT 5;\", connection)\n",
    "print(df.head())"
   ]
  },
  {
   "cell_type": "markdown",
   "metadata": {},
   "source": [
    "\n",
    "# Next notebook: generating sales data\n",
    "\n",
    "<a href=\"2. Generate Sales data.ipynb\">Go to the next notebook -&gt;</a>\n",
    "\n",
    "\n",
    "*Contents © Copyright 2020 HP Development Company, L.P. SPDX-License-Identifier: MIT*"
   ]
  },
  {
   "cell_type": "code",
   "execution_count": null,
   "metadata": {},
   "outputs": [],
   "source": []
  }
 ],
 "metadata": {
  "kernelspec": {
   "display_name": "Python 3",
   "language": "python",
   "name": "python3"
  },
  "language_info": {
   "codemirror_mode": {
    "name": "ipython",
    "version": 3
   },
   "file_extension": ".py",
   "mimetype": "text/x-python",
   "name": "python",
   "nbconvert_exporter": "python",
   "pygments_lexer": "ipython3",
   "version": "3.7.3"
  }
 },
 "nbformat": 4,
 "nbformat_minor": 2
}
