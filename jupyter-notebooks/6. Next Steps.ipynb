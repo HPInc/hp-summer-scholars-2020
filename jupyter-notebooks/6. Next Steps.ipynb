{
 "cells": [
  {
   "cell_type": "markdown",
   "metadata": {},
   "source": [
    "# 6. Next Steps\n",
    "\n",
    "## 6.1 Automation and 'DataOps'\n",
    "\n",
    "In the business world, a report like this would have a full automation pipeline, and would typically run nightly or weekly and generate an e-mailed report or a web-based dashboard.  For this example, we put our Python code snippets into a Jupyter notebook, which is great for teaching and demonstration.\n",
    "\n",
    "However, for automation, we would likely turn our Python code into a library and schedule it to run nightly using a workflow and scheduling system like Apache Airflow.  We might include quality checks using our own code or off-the-shelf quality checking tools.\n",
    "\n",
    "In our simple example, the queries ran really fast.  In a large business, the data processing involved can be quite CPU-intensive and take many hours to complete.  Managing the cost, performance, and tuning of this code is an ongoing job.\n",
    "\n",
    "As our automation goes through a set of steps in its processing pipeline, it's important to have monitoring and logging in place to make sure nothing fails along the way.  If the pipeline fails, someone should be notified.\n",
    "\n",
    "## 6.2 Quality checks and tools\n",
    "\n",
    "As mentioned above, quality checks can be done with tools or your own code.  A robust set of checks at the beginning of the pipeline are critical, since many of the failures in a processing pipeline occur because of bad data -- missing values, data of the wrong type, etc.\n",
    "\n",
    "## 6.3 Analytics and Visualization\n",
    "\n",
    "A good presentation goes a long way.  Using data analytics in combination with powerful visualization tools such as PowerBI, Tableau, Qlik, and Looker can provide deep insight into your company's business via dashboards and reports.  PowerBI is free and is a very capable tool, and there are a lot of good learning resources out there.  Tableau is also free for public data visualizations.  \n",
    "\n",
    "## 6.4 AI and machine learning\n",
    "\n",
    "Machine learning is very good at answering certain specific questions related to forecasting, prediction, classification, and recommendations.  Having your data in order first is pretty important, since it's the foundation.  There are many great ways to learn AI and ML online with hands-on examples.\n",
    "\n",
    "# Course Summary\n",
    "\n",
    "During this course, you've been exposed to several typical situations and approaches for using data to generate insights into your company's business.  This includes:\n",
    "\n",
    "- Sourcing enterprise data such as sales and salespeople\n",
    "- Enriching the data with public reference data such as state/county/population\n",
    "- Joining the data with public Covid-19 data to gain insight into the top sales regions with growing case loads\n",
    "- Discussions about data quality, designing your datasets for reuse, etc.\n",
    "- Various working examples for reading CSVs, querying Postgres, using pandas and Altair\n",
    "- An overview of other considerations, such as privacy, governance, and automation\n",
    "\n",
    "We hope you've enjoyed this course!\n",
    "\n",
    "Bonus content: <a href=\"7. Genericizing the Covid-19 Query.ipynb\">Notebook: Genericizing the Covid-19 Query</a>\n",
    "\n",
    "*Contents © Copyright 2020 HP Development Company, L.P. SPDX-License-Identifier: MIT*"
   ]
  },
  {
   "cell_type": "code",
   "execution_count": null,
   "metadata": {},
   "outputs": [],
   "source": []
  }
 ],
 "metadata": {
  "kernelspec": {
   "display_name": "Python 3",
   "language": "python",
   "name": "python3"
  },
  "language_info": {
   "codemirror_mode": {
    "name": "ipython",
    "version": 3
   },
   "file_extension": ".py",
   "mimetype": "text/x-python",
   "name": "python",
   "nbconvert_exporter": "python",
   "pygments_lexer": "ipython3",
   "version": "3.7.3"
  }
 },
 "nbformat": 4,
 "nbformat_minor": 2
}
