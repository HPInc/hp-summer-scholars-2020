{
 "cells": [
  {
   "cell_type": "markdown",
   "metadata": {},
   "source": [
    "# 4. Visualizing Data - Reporting & Analytics\n",
    "\n",
    "In the last notebook, we saw the basic starting point for a report.  For example:\n",
    "\n",
    "## 4.1 Report example\n",
    "\n",
    "#### Top 10 Salespeople by Total Sales (USD), Last 12 Months\n",
    "\n",
    "```\n",
    "Yearly Sales (USD)   State     Salesperson\n",
    "$3312283.72           TX     William Bernard\n",
    "$3173485.84           CA       Larry Morales\n",
    "$2113674.22           NY       Kendra Ingram\n",
    "$2017619.26           FL      Deborah Walker\n",
    "$1627246.43           GA       Justin Medina\n",
    "$1380399.77           IL       Robert Hughes\n",
    "$1106723.17           OH        Andrew Moore\n",
    "$1036475.05           MA         James Scott\n",
    "$1023290.36           MO     Tyler Henderson\n",
    "$1003630.76           MI       Logan Watkins\n",
    "```\n",
    "\n",
    "This is a very useful report for a country sales manager, for example.  Charts and graphs can provide a more useful visualization of the data at times.  Microsoft Excel makes this really easy; just paste the data into Excel, and you can create a bar chart with a couple clicks.\n",
    "\n",
    "## 4.2 Excel chart example\n",
    "\n",
    "<img src=\"images/sales-chart-excel.png\">\n",
    "\n",
    "However, in many cases, you'll want to use automation or data analysis tools as well.  Excel is very powerful and popular, but visualization tools such as Tableau, Power BI, Qlik Sense, and Looker are used extensively in the data analytics world.\n",
    "\n",
    "In addition, you can generate charts easily from your Python code.  Let's look at an example."
   ]
  },
  {
   "cell_type": "code",
   "execution_count": null,
   "metadata": {},
   "outputs": [],
   "source": [
    "!pip install altair"
   ]
  },
  {
   "cell_type": "markdown",
   "metadata": {},
   "source": [
    "## 4.3 Adding a chart in Python using Altair\n",
    "\n",
    "Let's return to the example from last notebook where we retrieved the sales data by salesperson from the database.  We pulled that into a pandas dataframe.  There's a great charting library called <a href=\"https://altair-viz.github.io/index.html\">Altair</a> that can take a pandas dataframe and easily make a chart out of it:"
   ]
  },
  {
   "cell_type": "code",
   "execution_count": null,
   "metadata": {},
   "outputs": [],
   "source": [
    "from my_connect import my_connect\n",
    "import pandas\n",
    "import altair\n",
    "\n",
    "connection = my_connect()\n",
    "\n",
    "q = \"\"\"\n",
    "SELECT SUM(sales.amount) AS total, salesperson.state, salesperson.name FROM sales\n",
    "INNER JOIN fips ON sales.fips = fips.fipstxt\n",
    "INNER JOIN salesperson ON fips.state = salesperson.state\n",
    "GROUP BY (salesperson.state, salesperson.name)\n",
    "ORDER BY total DESC LIMIT 10;\n",
    "\"\"\"\n",
    "\n",
    "df = pandas.io.sql.read_sql_query(q, connection)\n",
    "altair.Chart(df).mark_bar().encode(\n",
    "    altair.X('name', sort=altair.EncodingSortField(field='total', order='descending')), \n",
    "    y='total')"
   ]
  },
  {
   "cell_type": "markdown",
   "metadata": {},
   "source": [
    "Run the above, and you should get something like this:\n",
    "    \n",
    "<img src=\"images/sales-chart-altair.png\">\n"
   ]
  },
  {
   "cell_type": "markdown",
   "metadata": {},
   "source": [
    "# Next notebook: business insights from Covid-19 impact to sales\n",
    "\n",
    "Next we will look at some specific business questions about Covid-19 and how it might impact our business.\n",
    "\n",
    "<a href=\"5. Bring In Covid-19 Data.ipynb\">Go to the next notebook -&gt;</a>\n",
    "\n",
    "\n",
    "*Contents © Copyright 2020 HP Development Company, L.P. SPDX-License-Identifier: MIT*"
   ]
  },
  {
   "cell_type": "code",
   "execution_count": null,
   "metadata": {},
   "outputs": [],
   "source": []
  }
 ],
 "metadata": {
  "kernelspec": {
   "display_name": "Python 3",
   "language": "python",
   "name": "python3"
  },
  "language_info": {
   "codemirror_mode": {
    "name": "ipython",
    "version": 3
   },
   "file_extension": ".py",
   "mimetype": "text/x-python",
   "name": "python",
   "nbconvert_exporter": "python",
   "pygments_lexer": "ipython3",
   "version": "3.7.3"
  }
 },
 "nbformat": 4,
 "nbformat_minor": 2
}
