{
 "cells": [
  {
   "cell_type": "markdown",
   "metadata": {},
   "source": [
    "<a href=\"2. Generate Sales Data.ipynb\">&lt;- go back to previous notebook</a>\n",
    "\n",
    "# Step 3: Add salesperson data.\n",
    "\n",
    "In the last section, we generated sales data and aggregated it by state.  Now we want some additional insight into our sales personnel.  Let's start by adding some data for our salespeople.  Each state has a different salesperson.\n",
    "\n",
    "<img src=\"images/sample-salesperson.png\">"
   ]
  },
  {
   "cell_type": "markdown",
   "metadata": {},
   "source": [
    "## 3.1 Create the 'salesperson' table"
   ]
  },
  {
   "cell_type": "code",
   "execution_count": null,
   "metadata": {},
   "outputs": [],
   "source": [
    "from my_connect import my_connect\n",
    "\n",
    "connection = my_connect()\n",
    "cursor = connection.cursor()\n",
    "q = \"\"\"\n",
    "CREATE TABLE IF NOT EXISTS salesperson (\n",
    "                state VARCHAR(2) PRIMARY KEY,\n",
    "                name VARCHAR(200)\n",
    "               )\n",
    "\"\"\"\n",
    "cursor.execute(q)\n",
    "connection.commit()"
   ]
  },
  {
   "cell_type": "markdown",
   "metadata": {},
   "source": [
    "## 3.2 Insert salesperson names for all states"
   ]
  },
  {
   "cell_type": "code",
   "execution_count": null,
   "metadata": {},
   "outputs": [],
   "source": [
    "import pandas\n",
    "from faker import Faker\n",
    "import psycopg2.sql as sql\n",
    "\n",
    "fake = Faker()\n",
    "connection = my_connect()\n",
    "cursor = connection.cursor()\n",
    "\n",
    "# Get the list of states from the fips table we created earlier\n",
    "q = \"SELECT DISTINCT state FROM fips ORDER BY state ASC\"\n",
    "df = pandas.io.sql.read_sql_query(q, connection)\n",
    "states = df['state'].values.tolist()\n",
    "\n",
    "# Generate a fake salesperson name for each state and insert it if there isn't already one for that state\n",
    "for state in states:\n",
    "    name = fake.name()\n",
    "    q = sql.SQL(\"INSERT INTO salesperson (name, state) VALUES ({}, {}) ON CONFLICT DO NOTHING;\")\n",
    "    cursor.execute(q.format(sql.Literal(name), sql.Literal(state)))\n",
    "    connection.commit()\n",
    "\n",
    "# Print 10 to verify\n",
    "df = pandas.io.sql.read_sql_query(\"SELECT * FROM salesperson LIMIT 10\", connection)\n",
    "print(df.head(10))"
   ]
  },
  {
   "cell_type": "markdown",
   "metadata": {},
   "source": [
    "### Data quality concern: flaws in our salesperson table\n",
    "\n",
    "There's a few things to note about the data set we just created that make it less than ideal for a real-world situation:\n",
    "- Each state can have one and only one salesperson\n",
    "- If a salesperson were to handle two states, you'd have to duplicate their name (not normalized)\n",
    "- Our primary key constraint is on the 'state' column, which would not allow more than one record per state\n",
    "- We only have the name of the salesperson, no details (e.g. e-mail address)\n",
    "\n",
    "While the dataset is OK for the faked-up example we're doing here, it's important to think about how your data will be used by others.  In this case, the dataset is pretty limiting, and it probably means that you'd have to do a bunch of rework later on if something changed (e.g. to allow a backup salesperson per state).  Sometimes you can make a small change to the dataset at the beginning that makes it a lot easier.  Examples in this case:\n",
    "- Adding an integer ID field as the primary key instead, allowing multiple state records\n",
    "- A separate table for salesperson details, including name, e-mail, phone, etc. with an integer ID as the primary key\n",
    "- Instead of putting the salesperson name, use the salesperson detail ID to normalize this table\n",
    "\n",
    "Doing a little work up front can make it much easier to share data across your organization.  The changes above would make the data set more resilient to reasonable changes without having to do a bunch of schema changes that would break downstream apps, reports, or dashboards.\n",
    "\n",
    "## 3.3 Join the salesperson info in with the sales data"
   ]
  },
  {
   "cell_type": "code",
   "execution_count": null,
   "metadata": {},
   "outputs": [],
   "source": [
    "import pandas\n",
    "connection = my_connect()\n",
    "\n",
    "q = \"\"\"\n",
    "SELECT SUM(sales.amount) AS total, salesperson.state, salesperson.name FROM sales\n",
    "INNER JOIN fips ON sales.fips = fips.fipstxt\n",
    "INNER JOIN salesperson ON fips.state = salesperson.state\n",
    "GROUP BY (salesperson.state, salesperson.name)\n",
    "ORDER BY total DESC LIMIT 10;\n",
    "\"\"\"\n",
    "\n",
    "df = pandas.io.sql.read_sql_query(q, connection)\n",
    "print(df.head(10))\n"
   ]
  },
  {
   "cell_type": "markdown",
   "metadata": {},
   "source": [
    "Run the above and you should get something like this:\n",
    "```\n",
    "        total state             name\n",
    "0  3312283.72    TX  William Bernard\n",
    "1  3173485.84    CA    Larry Morales\n",
    "2  2113674.22    NY    Kendra Ingram\n",
    "3  2017619.26    FL   Deborah Walker\n",
    "4  1627246.43    GA    Justin Medina\n",
    "5  1380399.77    IL    Robert Hughes\n",
    "6  1106723.17    OH     Andrew Moore\n",
    "7  1036475.05    MA      James Scott\n",
    "8  1023290.36    MO  Tyler Henderson\n",
    "9  1003630.76    MI    Logan Watkins\n",
    "```"
   ]
  },
  {
   "cell_type": "markdown",
   "metadata": {},
   "source": [
    "# Next notebook: visualization\n",
    "\n",
    "Next we will see a couple of examples of visualizing the report above as a bar graph.\n",
    "\n",
    "<a href=\"4. Visualization.ipynb\">Go to the next notebook -&gt;</a>\n",
    "\n",
    "\n",
    "*Contents © Copyright 2020 HP Development Company, L.P. SPDX-License-Identifier: MIT*"
   ]
  },
  {
   "cell_type": "code",
   "execution_count": null,
   "metadata": {},
   "outputs": [],
   "source": []
  }
 ],
 "metadata": {
  "kernelspec": {
   "display_name": "Python 3",
   "language": "python",
   "name": "python3"
  },
  "language_info": {
   "codemirror_mode": {
    "name": "ipython",
    "version": 3
   },
   "file_extension": ".py",
   "mimetype": "text/x-python",
   "name": "python",
   "nbconvert_exporter": "python",
   "pygments_lexer": "ipython3",
   "version": "3.7.3"
  }
 },
 "nbformat": 4,
 "nbformat_minor": 2
}
