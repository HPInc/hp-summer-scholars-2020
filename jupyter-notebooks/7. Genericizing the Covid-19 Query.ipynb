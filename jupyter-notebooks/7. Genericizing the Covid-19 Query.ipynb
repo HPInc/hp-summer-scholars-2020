{
 "cells": [
  {
   "cell_type": "markdown",
   "metadata": {},
   "source": [
    "# Genericizing the Covid-19 Query\n",
    "\n",
    "In a previous notebook, we used a query that looked at a couple weeks back in April, comparing them against each other to find case rate increases week-to-week.  What if we wanted to make that query generic so we could run it any time and get an up-to-date result?  Here's what that query would look like."
   ]
  },
  {
   "cell_type": "markdown",
   "metadata": {},
   "source": [
    "# First Make Sure the NYT Data is Up To Date\n",
    "This will pull down the latest CSV if there's no data from yesterday in the local Postgres table."
   ]
  },
  {
   "cell_type": "code",
   "execution_count": null,
   "metadata": {},
   "outputs": [],
   "source": [
    "# See the file my_nyt_update.py in the jupyter_notebooks directory\n",
    "from my_nyt_update import update_nyt_if_needed\n",
    "\n",
    "update_nyt_if_needed()"
   ]
  },
  {
   "cell_type": "markdown",
   "metadata": {},
   "source": [
    "## Using Python for the Date Math\n",
    "\n",
    "You should be able to do the date math in SQL as well, but I think this way's a little bit more readable."
   ]
  },
  {
   "cell_type": "code",
   "execution_count": null,
   "metadata": {},
   "outputs": [],
   "source": [
    "from datetime import datetime, timedelta\n",
    "import pytz\n",
    "\n",
    "# \"last\" week is 7 days ending yesterday, \"prev\" week is the 7 days before that\n",
    "tz = pytz.timezone(\"Etc/UTC\")\n",
    "todays_date = tz.localize(datetime.today())\n",
    "prev_week_start = todays_date - timedelta(days=14)\n",
    "prev_week_end = todays_date - timedelta(days=8)\n",
    "last_week_start = todays_date - timedelta(days=7)\n",
    "last_week_end = todays_date - timedelta(days=1)\n",
    "p = \"%Y-%m-%d\"\n",
    "\n",
    "print(\"Today is %s.  We will compare %s thorugh %s inclusive to %s through %s.\" % \\\n",
    "     (todays_date.strftime(p), prev_week_start.strftime(p), prev_week_end.strftime(p), \\\n",
    "     last_week_start.strftime(p), last_week_end.strftime(p)))"
   ]
  },
  {
   "cell_type": "markdown",
   "metadata": {},
   "source": [
    "# Compare the Last 2 Weeks for Counties Where the Case Rate has Doubled\n",
    "\n",
    "Leveraging the query we did in Notebook 5, let's take a more generic approach, where we can run the query at any time to do the following:\n",
    "- Sum the cases over the last 7 days for each region (county)\n",
    "- Also sum the 7 days before that\n",
    "- Compare the two\n",
    "- Find regions where the case rate has increased more than 100%\n",
    "- Limit the search to regions with more than 25 cases last week\n",
    "\n",
    "We'll put the result into a new table called ```cases_change_by_fips_yesterday``` so we can map it later."
   ]
  },
  {
   "cell_type": "code",
   "execution_count": null,
   "metadata": {},
   "outputs": [],
   "source": [
    "from my_connect import my_connect\n",
    "import psycopg2.sql as sql\n",
    "\n",
    "connection = my_connect()\n",
    "cursor = connection.cursor()\n",
    "\n",
    "# This selects the cases for the \"prev\" week in each FIPS region into a temp table\n",
    "q1 = sql.SQL(\"\"\"\n",
    "DROP TABLE IF EXISTS temp_table2;\n",
    "SELECT fips, \n",
    "SUM(CASE WHEN date BETWEEN {} AND {} AND fips <> 'None' THEN cases_since_prev_day ELSE 0.00 END) AS week1\n",
    "INTO TEMP TABLE temp_table2\n",
    "FROM nyt_us_covid19\n",
    "GROUP BY (fips);\n",
    "\"\"\")\n",
    "\n",
    "# This selects the cases for the \"last\" week (most recent 7 days ending yesterday) and computes the difference\n",
    "\n",
    "q2 = sql.SQL(\"\"\"\n",
    "\n",
    "DROP TABLE IF EXISTS cases_change_by_fips_yesterday;\n",
    "\n",
    "SELECT nyt_us_covid19.fips, week1 as prev_week_cases,\n",
    "\n",
    "SUM(CASE WHEN date BETWEEN {} AND {} AND nyt_us_covid19.fips <> 'None' \n",
    "    THEN cases_since_prev_day ELSE 0.00 END) as last_week_cases,\n",
    "    \n",
    "SUM(CASE WHEN date BETWEEN {} AND {} AND nyt_us_covid19.fips <> 'None' \n",
    "    THEN cases_since_prev_day ELSE 0.00 END) - week1 AS case_change,\n",
    "    \n",
    "-- This prevents division by zero when there are no new cases\n",
    "(CASE WHEN week1 = 0 THEN 0 ELSE \n",
    "  (SUM(CASE WHEN date BETWEEN {} AND {} AND nyt_us_covid19.fips <> 'None' \n",
    "    THEN cases_since_prev_day ELSE 0.00 END) - week1) / week1\n",
    "END) * 100 AS percent_change,\n",
    "\n",
    "fips.area_name, fips.state, CONCAT(fips.area_name, ', ', fips.state) AS county_state\n",
    "\n",
    "INTO cases_change_by_fips_yesterday\n",
    "FROM nyt_us_covid19 \n",
    "JOIN temp_table2 ON (temp_table2.fips = nyt_us_covid19.fips)\n",
    "JOIN fips ON (fips.fipstxt = nyt_us_covid19.fips)\n",
    "GROUP BY (nyt_us_covid19.fips, week1, fips.area_name, fips.state)\n",
    "\n",
    "HAVING\n",
    "\n",
    "-- only select rows where last_week_cases > 25\n",
    "(SUM(CASE WHEN date BETWEEN {} AND {} AND nyt_us_covid19.fips <> 'None' \n",
    "    THEN cases_since_prev_day ELSE 0.00 END) > 25)\n",
    "    \n",
    "AND\n",
    "\n",
    "-- only select rows where percent_change > 100\n",
    "((CASE WHEN week1 = 0 THEN 0 ELSE \n",
    "  (SUM(CASE WHEN date BETWEEN {} AND {} AND nyt_us_covid19.fips <> 'None' \n",
    "    THEN cases_since_prev_day ELSE 0.00 END) - week1) / week1\n",
    "END) * 100 > 100)\n",
    "    \n",
    "ORDER BY percent_change desc;\n",
    "\"\"\")\n",
    "\n",
    "y = sql.Literal(last_week_start.strftime(p))\n",
    "z = sql.Literal(last_week_end.strftime(p))\n",
    "q1_str = q1.format(sql.Literal(prev_week_start.strftime(p)), sql.Literal(prev_week_end.strftime(p)))\n",
    "q2_str = q2.format(y, z, y, z, y, z, y, z, y, z)\n",
    "\n",
    "cursor.execute(q1_str)\n",
    "connection.commit()\n",
    "cursor.execute(q2_str)\n",
    "connection.commit()"
   ]
  },
  {
   "cell_type": "code",
   "execution_count": null,
   "metadata": {},
   "outputs": [],
   "source": [
    "import pandas\n",
    "connection = my_connect()\n",
    "q = \"\"\"\n",
    "SELECT * FROM cases_change_by_fips_yesterday ORDER BY percent_change desc limit 500;\n",
    "\"\"\"\n",
    "df = pandas.io.sql.read_sql_query(q, connection)\n",
    "pandas.set_option('display.max_rows', 500)\n",
    "pandas.set_option('display.width', 150)\n",
    "print(df.head(500))"
   ]
  },
  {
   "cell_type": "markdown",
   "metadata": {},
   "source": [
    "Here's an example ArcGIS Map in PowerBI:\n",
    "\n",
    "<img src=\"images/map-cases-doubled.png\">"
   ]
  },
  {
   "cell_type": "markdown",
   "metadata": {},
   "source": [
    "# How to Create the Map in Power BI\n",
    "\n",
    "- Create a new file\n",
    "- Get Data\n",
    "\n",
    "<img src=\"images/filled-map/10-get-data.png\">\n",
    "\n",
    "- Select PostgreSQL and click Connect\n",
    "\n",
    "<img src=\"images/filled-map/20-postgres.png\">\n",
    "\n",
    "- Enter 'localhost' as the server, 'sales' as the database, and select the DirectQuery radio:\n",
    "\n",
    "<img src=\"images/filled-map/30-postgres-settings.png\">\n",
    "\n",
    "- Select the 'cases_change_by_fips_yesterday' table and click Load\n",
    "\n",
    "<img src=\"images/filled-map/40-table-selection.png\">\n",
    "\n",
    "- Under Visualizations, select 'ArcGIS Maps for Power BI'\n",
    "\n",
    "<img src=\"images/filled-map/50-arcgis.png\">\n",
    "\n",
    "- In order to get the correct behavior from the ArcGIS maps, you need to use the county and state name.  The FIPS code won't work.  Note that I have generated such a column into the table for this purpose called ```county_state```:\n",
    "\n",
    "<img src=\"images/filled-map/60-county-state.png\">\n",
    "\n",
    "- Make sure the Fields tab/area is selected (highlighted box on the left below)\n",
    "- Drag the ```county_state``` field to Location\n",
    "- Drag the ```fips``` field to Tooltips\n",
    "- Drag the ```percent_change``` field to Color\n",
    "\n",
    "<img src=\"images/filled-map/70-drag-fields.png\">\n",
    "\n",
    "- Here's an example of the resultant map:\n",
    "\n",
    "<img src=\"images/filled-map/80-map-example.png\">\n",
    "\n"
   ]
  },
  {
   "cell_type": "markdown",
   "metadata": {},
   "source": [
    "*Contents © Copyright 2020 HP Development Company, L.P. SPDX-License-Identifier: MIT*"
   ]
  },
  {
   "cell_type": "code",
   "execution_count": null,
   "metadata": {},
   "outputs": [],
   "source": []
  }
 ],
 "metadata": {
  "kernelspec": {
   "display_name": "Python 3",
   "language": "python",
   "name": "python3"
  },
  "language_info": {
   "codemirror_mode": {
    "name": "ipython",
    "version": 3
   },
   "file_extension": ".py",
   "mimetype": "text/x-python",
   "name": "python",
   "nbconvert_exporter": "python",
   "pygments_lexer": "ipython3",
   "version": "3.7.3"
  }
 },
 "nbformat": 4,
 "nbformat_minor": 2
}
