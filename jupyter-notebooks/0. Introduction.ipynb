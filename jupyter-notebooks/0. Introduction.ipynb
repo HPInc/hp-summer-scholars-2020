{
 "cells": [
  {
   "cell_type": "markdown",
   "metadata": {},
   "source": [
    "# Holistic Use of Data for Better Business Insights\n",
    "\n",
    "In this module, we'll demonstrate some typical phases of the data lifecycle.  This will include:\n",
    "\n",
    "- Bringing data in\n",
    "- Cleaning it up\n",
    "- Enriching it with other data to provide context\n",
    "- Joining it with other data sources to provide answers to business questions\n",
    "- Use visualization tools to provide insight into your business\n",
    "\n",
    "This folder contains a number of Jupyter notebooks containing Python 3 code.  It uses a local PostgreSQL\n",
    "database to demonstrate some of the items above.\n",
    "\n",
    "# Overview\n",
    "\n",
    "In this lab, we'll pretend we're a company selling products.  We'll have data sets representing sales and salespeople, and we'll be able to analyze the top-selling regions and salespeople.  \n",
    "\n",
    "Next, we'll examine the impact of Covid-19 on our sales.  We have the following business questions that data can help us answer:\n",
    "\n",
    "\n",
    "- Are there any new outbreaks (weekly increases of Covid-19 cases greater than 20%)?\n",
    "- Are any of our top 100 sales regions (by county) affected?\n",
    "- Do I have to notify any of my salespeople about these issues?  Who are they?\n",
    "\n",
    "We'll use this Python-based Jupyter notebook to automate and document the steps along the way.  We'll use a local PostgreSQL database to hold the data we'll use.\n",
    "\n",
    "In some cases, we'll create simulated data.  We'll also bring in some public data sets for enrichment and reference (ZIP code, city/state, timezone, etc.) to help support getting us the answers we need in context.\n",
    "\n",
    "# Some of the things you will learn\n",
    "\n",
    "- How to perform database queries to PostgreSQL from Python\n",
    "- How to use pandas, a very popular data manipulation library\n",
    "- How to import data from a CSV file in an AWS S3 bucket and put it into a Postgres table\n",
    "- How to import reference data into memory lists for faster use\n",
    "- How to use Jupyter notebooks to write, test, and document your code\n",
    "- How to reuse code across notebooks\n",
    "- How to go from a set of business questions and basic enterprise data to insights into your business\n",
    "- Some data quality pitfalls when importing, designing, and reusing datasets\n",
    "- How to create a chart from your data directly inside the Jupyter notebook\n",
    "\n",
    "# Setup\n",
    "\n",
    "To run these notebooks, you'll need:\n",
    "- PostgreSQL installed locally (I'm using v10)\n",
    "- Anaconda (Python 3.7 or 3.8 is fine), which comes with Python and Jupyter\n",
    "\n",
    "Follow the normal installation processes, nothing special.  **See the README.md at the root of this repo for\n",
    "detailed instructions on setting everything up.**\n",
    "\n",
    "- Install Postgres locally and get it running.  Use the included pgAdmin tool to do the next steps.\n",
    "- Create a role called 'sales' and set a password.\n",
    "- Create a properties file with the login and password (see 1.1 below for the correct format).\n",
    "- Create a database called 'sales'.  You can leave it empty.\n",
    "\n",
    "# Next notebook: importing reference data\n",
    "\n",
    "Open the notebook titled <a href=\"1. FIPS Code and Population Data.ipynb\">1. FIPS Code and Population Data</a> to continue.\n",
    "\n",
    "\n",
    "*Contents © Copyright 2020 HP Development Company, L.P. SPDX-License-Identifier: MIT*\n"
   ]
  },
  {
   "cell_type": "code",
   "execution_count": null,
   "metadata": {},
   "outputs": [],
   "source": []
  }
 ],
 "metadata": {
  "kernelspec": {
   "display_name": "Python 3",
   "language": "python",
   "name": "python3"
  },
  "language_info": {
   "codemirror_mode": {
    "name": "ipython",
    "version": 3
   },
   "file_extension": ".py",
   "mimetype": "text/x-python",
   "name": "python",
   "nbconvert_exporter": "python",
   "pygments_lexer": "ipython3",
   "version": "3.7.3"
  }
 },
 "nbformat": 4,
 "nbformat_minor": 2
}
